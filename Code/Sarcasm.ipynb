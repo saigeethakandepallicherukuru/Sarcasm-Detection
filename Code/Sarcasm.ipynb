{
 "cells": [
  {
   "cell_type": "code",
   "execution_count": 1,
   "metadata": {
    "collapsed": false
   },
   "outputs": [],
   "source": [
    "import io\n",
    "import sys\n",
    "from textblob import TextBlob\n",
    "import tweepy\n",
    "import re"
   ]
  },
  {
   "cell_type": "code",
   "execution_count": 2,
   "metadata": {
    "collapsed": false
   },
   "outputs": [],
   "source": [
    "# Step 1 - Authenticate\n",
    "consumer_key= 'SMVEA3MypMkgOeAGjn75N0gHJ'\n",
    "consumer_secret= 'skaKGnyqPpzGO9PHubYaEVygai6fQB95ZkZQJrFFYaJfXZvI8J'\n",
    "\n",
    "access_token='715755192994643968-NgdBmvMLFm7QotE1sZezym6daI0WyOD'\n",
    "access_token_secret='d9B1xOXUzlgNyGa8Zyex09V6sTz4RUS5a4yPVqwCyiNRV'\n",
    "\n",
    "auth = tweepy.OAuthHandler(consumer_key, consumer_secret)\n",
    "auth.set_access_token(access_token, access_token_secret)\n",
    "\n",
    "#Step2 - Call the API\n",
    "api = tweepy.API(auth)\n",
    "\n",
    "#Step 3 - Retrieve Tweets\n",
    "tweet = api.get_status('551225929947942913')"
   ]
  },
  {
   "cell_type": "code",
   "execution_count": 6,
   "metadata": {
    "collapsed": false
   },
   "outputs": [],
   "source": [
    "with io.open(\"C:/Users/suraj/Desktop/Fracking-Sarcasm-using-Neural-Network.txt\") as fopen:\n",
    "    file_content = fopen.read().splitlines()\n",
    "\n",
    "    \n",
    "consumer_key= 'SMVEA3MypMkgOeAGjn75N0gHJ'\n",
    "consumer_secret= 'skaKGnyqPpzGO9PHubYaEVygai6fQB95ZkZQJrFFYaJfXZvI8J'\n",
    "\n",
    "access_token='715755192994643968-NgdBmvMLFm7QotE1sZezym6daI0WyOD'\n",
    "access_token_secret='d9B1xOXUzlgNyGa8Zyex09V6sTz4RUS5a4yPVqwCyiNRV'\n",
    "\n",
    "auth = tweepy.OAuthHandler(consumer_key, consumer_secret)\n",
    "auth.set_access_token(access_token, access_token_secret)\n",
    "\n",
    "#Step2 - Call the API\n",
    "api = tweepy.API(auth)\n",
    "output = ''    \n",
    "    \n",
    "for i in range(0,50):\n",
    "    try:\n",
    "        temp = re.split(r'\\t+',file_content[i])\n",
    "        tweet, label = temp[0], temp[1]\n",
    "        status = api.get_status(tweet)\n",
    "        output += status.text + \" \" + label + \"\\n\"\n",
    "    except:\n",
    "        continue\n",
    "outputfile = open(\"output_file1.txt\",\"w\", encoding=\"UTF-8\")\n",
    "outputfile.write(output)\n",
    "outputfile.close()\n",
    "    \n",
    "    "
   ]
  },
  {
   "cell_type": "code",
   "execution_count": 5,
   "metadata": {
    "collapsed": false
   },
   "outputs": [
    {
     "data": {
      "text/plain": [
       "['547519595159224321', '1']"
      ]
     },
     "execution_count": 5,
     "metadata": {},
     "output_type": "execute_result"
    }
   ],
   "source": [
    "import re\n",
    "re.split(r'\\t+',file_content[2])"
   ]
  },
  {
   "cell_type": "code",
   "execution_count": 9,
   "metadata": {
    "collapsed": false
   },
   "outputs": [
    {
     "data": {
      "text/plain": [
       "'about it and I called my mom at lunch but she kept saying hello? so I gave my phone to my friend to talk for me bc I couldn\\'t speak 0\\nAbout to become a comedian so I can speak what\\'s on my mind and not get un trouble for it cause I\\'m a comedian! 0\\nAbout to hear Robert Shiller speak at my school so that\\'s pretty awesome. 0\\nAbout to listen to for a third time :) I think it\\'s the best I have heard so far. It\\'s the best I have ever heard anyone speak. 0\\nAbout to listen to speak!! His books have for so long inspired me #thisiswhy #smartiscool #INBOUND14 0\\nA boy being able to speak another language is so attractive 0\\n😋💕 absolutely beautiful! And so lovely, spoken and seen you a few times but should definitely try to speak a bit more or something x 0\\nabsolutely love how you don\\'t speak in person but are so quick to text me with some \" i miss you\" 😏 0\\nabsolutely NOT sastified with the so called manager who rang . Need to speak to a UK based STAFF #fedup 0\\nAcceptable cone ? 0\\naces. I\\'ll speak to p. Thinking about going away for Chrissy, so may need to save up but one night won\\'t hurt x 0\\n-a city center to pick up supplies. {I play joust with Rhys as I speak} So, here I am, lumbering through- 0\\n\\'Actions have reactions so don\\'t be quick to judge, you may not know the hardships people don\\'t speak of\\' 0\\nAction speak audible than words you know akr so I rather gesture than ke bue now and not be able to convince you Bua pele 0\\nAction speak louder then wrds so I just need to prove her wrong 😏😏😏 0\\nactions show who someone really is, words just show who they want to be so speak to me with your actions 0\\nActions speak louder than words. But every girl loves to be sweet talked. So makes that a mixed msg! Haha 0\\nactions speak louder than words so always listen to what people are telling you with your eyes rather than your ears. 0\\nActions speak louder than words so I don\\'t have to know u not to like u. 0\\nActions speak louder than words so I refuse to be fooled by something that sounds so good when I never see a follow up 0\\nactions speak louder than words, so just know your words are dirt to me until you prove it to me 0\\nActions speak louder than words, so sometimes you just have to believe what you see &amp; forget what you hear 0\\nActions speak so much louder... But I\\'m the one who needs to put in effort.... YOU GOT ME F\\'ED UP 0\\nACTIONS WILL ALWAYS SPEAK TO ME SO STFU W THE BULLSHIT ✌️ 0\\nACT SO DIFFERENTLY HE NEVER USED TO SPEAK TO ME THE WAY HE SPOKE TO OTHERS AND THEN LAST NOVEMBER I FOUND OUT + 0\\naddition. You clearly don\\'t know much about what you\\'re trying to speak on so like I said. LEAVE IT SIS. 0\\n💆- a don\\'t even know haha! used to be so close but things are fucked. gorgeous and amazing personality but things have changed. dnt speak x 0\\nAfter my niece told her brother to speak English, he continued speaking Spanish lmao why is that so funny to me? 0\\nA Girl Be So Quick To Tell You How Wrong You Did Her But Never Speak Up On How Good You Treated Her 0\\nA girl had her hair down on the team we lost to tonight so no one is permitted to speak to me for at least 72 hours. 0\\nA great TED Talk on \"How to speak so that people want to listen\". Learn to command a room or speak with empathy: 0\\nAgreed. THeres a bigger point in there that scientists must respect philosophy tho as it is homebase so-to-speak 0\\nagree! So many entry levels sit paralyzed to speak, but millennials are the ones developing new trends #speakup #millennialchat 0\\nahaha aww:)how/where did you learn to speak English so well? 0\\nahaha it\\'s so cute and funny when my mom tries to talk to someone that obviously doesn\\'t speak Spanish 0\\nAhaha omg it\\'s so funny when you find out funny as fuck stuff about people you used to speak to 0\\nah Doug, you leave the door open to so many jokes but my Canadian politeness won\\'t allow me to speak :) 0\\nahh...I can\\'t do tomorrow now!ill be in in half an hr so speak to you then if you\\'re there xx 0\\nAh? [His head tilted ever-so slightly as he continued to speak.] How so? 0\\nah im so envious of you im chinese and i go to a chinese sch so i dont hv friends who can speak malay sarawak 0\\nAh, i speak dutch so i understand some words. But were is Austria, is it near to Germany? 0\\nAh I understand, though. I\\'m just as embarrassed trying to speak French or Spanish because I\\'m so bad at those 0\\nah well will see in the morning lol I\\'m off to bed so will speak to you on the morning 😀 0\\nGreat to see speak in the very room where so many called for his release #HRC27 #Bahrain 0\\nGreat to see you Anita, so glad you got a chance to speak with everyone too - see you in October if not before! 0\\nGreat to see you guys, thank you so much for coming! Speak soon! 0\\nGreat to speak today; thx for being so engaged with the idea of #resilience &amp; #businessperformance; lovely to meet you all! 0\\nGreat Video - How to speak so people will listen. 0\\nGreens only ones to speak up so far. 0\\nHe really pissed me off last night so im not speaking to him until he speak to me 😒 0\\n'"
      ]
     },
     "execution_count": 9,
     "metadata": {},
     "output_type": "execute_result"
    }
   ],
   "source": [
    "output"
   ]
  }
 ],
 "metadata": {
  "kernelspec": {
   "display_name": "Python [Root]",
   "language": "python",
   "name": "Python [Root]"
  },
  "language_info": {
   "codemirror_mode": {
    "name": "ipython",
    "version": 2
   },
   "file_extension": ".py",
   "mimetype": "text/x-python",
   "name": "python",
   "nbconvert_exporter": "python",
   "pygments_lexer": "ipython2",
   "version": "2.7.12"
  }
 },
 "nbformat": 4,
 "nbformat_minor": 0
}
