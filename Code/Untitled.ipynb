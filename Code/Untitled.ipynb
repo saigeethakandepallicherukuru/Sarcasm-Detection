{
 "cells": [
  {
   "cell_type": "code",
   "execution_count": 1,
   "metadata": {
    "collapsed": true
   },
   "outputs": [],
   "source": [
    "import logging\n",
    "logging.basicConfig(format='%(asctime) : %(levelname) : %(message)', level = logging.INFO)"
   ]
  },
  {
   "cell_type": "code",
   "execution_count": 3,
   "metadata": {
    "collapsed": false
   },
   "outputs": [
    {
     "name": "stderr",
     "output_type": "stream",
     "text": [
      "/home/surajr/anaconda2/lib/python2.7/site-packages/gensim/utils.py:1015: UserWarning: Pattern library is not installed, lemmatization won't be available.\n",
      "  warnings.warn(\"Pattern library is not installed, lemmatization won't be available.\")\n"
     ]
    }
   ],
   "source": [
    "from gensim import corpora"
   ]
  },
  {
   "cell_type": "code",
   "execution_count": 4,
   "metadata": {
    "collapsed": true
   },
   "outputs": [],
   "source": [
    "documents = [\"Human machine interface for lab abc computer applications\",\n",
    "              \"A survey of user opinion of computer system response time\",\n",
    "              \"The EPS user interface management system\",\n",
    "              \"System and human system engineering testing of EPS\",\n",
    "              \"Relation of user perceived response time to error measurement\",\n",
    "              \"The generation of random binary unordered trees\",\n",
    "              \"The intersection graph of paths in trees\",\n",
    "              \"Graph minors IV Widths of trees and well quasi ordering\",\n",
    "              \"Graph minors A survey\"]"
   ]
  },
  {
   "cell_type": "code",
   "execution_count": 18,
   "metadata": {
    "collapsed": true
   },
   "outputs": [],
   "source": [
    "stoplist = 'for a an the or to his her he she them they of'.split()\n",
    "texts = [ [word for word in document.lower().split() if word not in stoplist] \n",
    "         for document in documents]"
   ]
  },
  {
   "cell_type": "code",
   "execution_count": 21,
   "metadata": {
    "collapsed": false
   },
   "outputs": [
    {
     "data": {
      "text/plain": [
       "[['human', 'interface', 'computer'],\n",
       " ['survey', 'user', 'computer', 'system', 'response', 'time'],\n",
       " ['eps', 'user', 'interface', 'system'],\n",
       " ['system', 'and', 'human', 'system', 'eps'],\n",
       " ['user', 'response', 'time'],\n",
       " ['trees'],\n",
       " ['graph', 'trees'],\n",
       " ['graph', 'minors', 'trees', 'and'],\n",
       " ['graph', 'minors', 'survey']]"
      ]
     },
     "execution_count": 21,
     "metadata": {},
     "output_type": "execute_result"
    }
   ],
   "source": [
    "from collections import defaultdict\n",
    "frequency = defaultdict(int)\n",
    "\n",
    "for text in texts:\n",
    "    for token in text:\n",
    "        frequency[token] += 1\n",
    "        \n",
    "texts = [[token for token in text if frequency[token] > 1]for text in texts]\n",
    "texts"
   ]
  },
  {
   "cell_type": "code",
   "execution_count": 68,
   "metadata": {
    "collapsed": true
   },
   "outputs": [],
   "source": [
    "import re\n",
    "\n",
    "\"\"\"\n",
    "mapping of internet slangs to actuals\n",
    "BTW : by the way\n",
    "\"\"\"\n",
    "\n",
    "SlangsDict = {\n",
    "\tr\"\\bv\\b\" : \"we\",r\"\\br\\b\" : \"are\",r\"\\bu\\b\" : \"you\",r\"\\bc\\b\" : \"see\",r\"\\by\\b\" : \"why\",r\"\\bb\\b\" : \"be\",r\"\\bda\\b\" : \"the\",r\"\\bhaha\\b\" : \"ha\",\n",
    "\tr\"\\bhahaha\\b\" : \"ha\",r\"\\bdon't\\b\" : \"do not\",r\"\\bdoesn't\\b\" : \"does not\",r\"\\bdidn't\\b\" : \"did not\",r\"\\bhasn't\\b\" : \"has not\",\n",
    "\tr\"\\bhaven't\\b\" : \"have not\",r\"\\bhadn't\\b\" : \"had not\",r\"\\bwon't\\b\" : \"will not\",r\"\\bwouldn't\\b\" : \"would not\",r\"\\bcan't\\b\" : \"can not\",\n",
    "\tr\"\\bcannot\\b\" : \"can not\", r\"\\bi'll\\b\" : \"i will\",r\"\\bwe'll\\b\" : \"we will\",r\"\\byou'll\\b\" : \"you will\",r\"\\bisn't\\b\" : \"is not\",\n",
    "\tr\"\\bthat's\\b\" : \"that is\",r\"\\bidk\\b\" : \"i do not know\",r\"\\btbh\\b\" : \"to be honest\",r\"\\bic\\b\" : \"i see\",r\"\\bbtw\\b\" : \"by the way\",\n",
    "\tr\"\\blol\\b\" : \"laughing\",r\"\\bimo\\b\" : \"in my opinion\"\n",
    "}\n",
    "\n",
    "\"\"\"\n",
    "sentiment emotions dictionary\n",
    ":D -> good\n",
    "\"\"\"\n",
    "sentiEmo = {\n",
    "\t\"&lt;3\" : \" positive \",\":D\" : \" positive \",\t\":d\" : \" positive \", \":dd\" : \" positive \", \":P\" : \" positive \", \":p\" : \" positive \",\"8)\" : \" positive \",\n",
    "\t\"8-)\" : \" positive \",  \":-)\" : \" positive \",    \":)\" : \" positive \",    \";)\" : \" positive \",    \"(-:\" : \" positive \",    \"(:\" : \" positive \",\n",
    "    \":')\" : \" positive \",    \"xD\" : \" positive \",    \"XD\" : \" positive \",  \"yay!\" : \" positive \",  \"yay\" : \" positive \",  \"yaay\" : \" positive \",\n",
    "    \"yaaay\" : \" positive \",  \"yaaaay\" : \" positive \", \"yaaaaay\" : \" positive \", \"Yay!\" : \" positive \", \"Yay\" : \" positive \", \"Yaay\" : \" positive \",\n",
    "    \"Yaaay\" : \" positive \", \"Yaaaay\" : \" positive \", \"Yaaaaay\" : \" positive \",  \":/\" : \" negative \", \"&gt;\" : \" negative \", \":'(\" : \" negative \",\n",
    "    \":-(\" : \" negative \", \":(\" : \" negative \", \":s\" : \" negative \",\":-s\" : \" negative \",\"-_-\" : \" negative \", \"-.-\" : \" negative \"    \n",
    "}\n"
   ]
  },
  {
   "cell_type": "code",
   "execution_count": 62,
   "metadata": {
    "collapsed": false
   },
   "outputs": [],
   "source": [
    "#function to replace the emotions in the tweet\n",
    "def replaceEmotions(Tweet):\n",
    "    for key, value in sentiEmo.iteritems():\n",
    "        Tweet = Tweet.replace(key, value)\n",
    "    return Tweet\n"
   ]
  },
  {
   "cell_type": "code",
   "execution_count": 69,
   "metadata": {
    "collapsed": false
   },
   "outputs": [
    {
     "data": {
      "text/plain": [
       "'Having to pace back and forth due to the revolving sprinklers  negative  negative  negative  negative  negative  #not'"
      ]
     },
     "execution_count": 69,
     "metadata": {},
     "output_type": "execute_result"
    }
   ],
   "source": [
    "replaceEmotions('Having to pace back and forth due to the revolving sprinklers &gt;&gt;&gt;&gt;&gt; #not')"
   ]
  },
  {
   "cell_type": "code",
   "execution_count": 64,
   "metadata": {
    "collapsed": false
   },
   "outputs": [],
   "source": [
    "#function to replace the internet short slangs in a tweet\n",
    "def replaceSlangs(tweet):\n",
    "    newTweet = tweet\n",
    "    for r, slangs in genSlangs.iteritems():\n",
    "        tweet = re.sub(r,slangs,tweet.lower()) #upper/lower case\n",
    "    return tweet\n",
    "        "
   ]
  },
  {
   "cell_type": "code",
   "execution_count": 66,
   "metadata": {
    "collapsed": false
   },
   "outputs": [
    {
     "data": {
      "text/plain": [
       "'having to pace back and forth due to the revolving sprinklers &gt;&gt;&gt;&gt;&gt; #not'"
      ]
     },
     "execution_count": 66,
     "metadata": {},
     "output_type": "execute_result"
    }
   ],
   "source": [
    "replaceSlangs(\"Having to pace back and forth due to the revolving sprinklers &gt;&gt;&gt;&gt;&gt; #not\")"
   ]
  },
  {
   "cell_type": "code",
   "execution_count": 22,
   "metadata": {
    "collapsed": false
   },
   "outputs": [],
   "source": [
    "import io\n",
    "import re\n",
    "def preprocessdata(filename):\n",
    "    hashtags = re.compile(r'#\\w*\\s?')\n",
    "    tags = re.compile(r'@\\w*\\s?')  \n",
    "    \n",
    "    output = ''\n",
    "    \n",
    "    with io.open(filename,'r',encoding=\"UTF-8\") as fname:\n",
    "        file_content = fname.readlines()\n",
    "    \n",
    "    for tweet in file_content:\n",
    "        tweet = re.sub(hashtags,'',tweet)\n",
    "        tweet = re.sub(tags,'', tweet)\n",
    "        \n",
    "        output += tweet + '\\n'\n",
    "    \n",
    "    outputfile = io.open(\"dataset_1.txt\",\"w\",encoding=\"UTF-8\")\n",
    "    outputfile.write(output)\n",
    "    outputfile.close() \n",
    "    "
   ]
  },
  {
   "cell_type": "code",
   "execution_count": 23,
   "metadata": {
    "collapsed": false
   },
   "outputs": [],
   "source": [
    "preprocessdata('sarcasm_dataset.txt')"
   ]
  },
  {
   "cell_type": "code",
   "execution_count": 24,
   "metadata": {
    "collapsed": false
   },
   "outputs": [
    {
     "data": {
      "text/plain": [
       "'About to listen to speak!! His books have for so long inspired me 0'"
      ]
     },
     "execution_count": 24,
     "metadata": {},
     "output_type": "execute_result"
    }
   ],
   "source": [
    "hashtags = re.compile(r'#\\w*\\s?')\n",
    "tags = re.compile(r'@\\w*\\s?')  \n",
    "tweet=\"About to listen to speak!! His books have for so long inspired me #thisiswhy #smartiscool #INBOUND14 0\"\n",
    "tweet = re.sub(hashtags,'',tweet)\n",
    "tweet = re.sub(tags,'', tweet)\n",
    "tweet"
   ]
  }
 ],
 "metadata": {
  "kernelspec": {
   "display_name": "Python [Root]",
   "language": "python",
   "name": "Python [Root]"
  },
  "language_info": {
   "codemirror_mode": {
    "name": "ipython",
    "version": 2
   },
   "file_extension": ".py",
   "mimetype": "text/x-python",
   "name": "python",
   "nbconvert_exporter": "python",
   "pygments_lexer": "ipython2",
   "version": "2.7.12"
  }
 },
 "nbformat": 4,
 "nbformat_minor": 0
}
