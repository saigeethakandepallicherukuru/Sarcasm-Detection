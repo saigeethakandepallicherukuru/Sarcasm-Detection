{
 "cells": [
  {
   "cell_type": "code",
   "execution_count": 2,
   "metadata": {
    "collapsed": false
   },
   "outputs": [],
   "source": [
    "import io\n",
    "import sys\n",
    "from textblob import TextBlob\n",
    "import tweepy\n",
    "import re"
   ]
  },
  {
   "cell_type": "code",
   "execution_count": 3,
   "metadata": {
    "collapsed": false
   },
   "outputs": [],
   "source": [
    "# Step 1 - Authenticate\n",
    "consumer_key= 'SMVEA3MypMkgOeAGjn75N0gHJ'\n",
    "consumer_secret= 'skaKGnyqPpzGO9PHubYaEVygai6fQB95ZkZQJrFFYaJfXZvI8J'\n",
    "\n",
    "access_token='715755192994643968-NgdBmvMLFm7QotE1sZezym6daI0WyOD'\n",
    "access_token_secret='d9B1xOXUzlgNyGa8Zyex09V6sTz4RUS5a4yPVqwCyiNRV'\n",
    "\n",
    "auth = tweepy.OAuthHandler(consumer_key, consumer_secret)\n",
    "auth.set_access_token(access_token, access_token_secret)\n",
    "\n",
    "#Step2 - Call the API\n",
    "api = tweepy.API(auth)\n",
    "\n",
    "#Step 3 - Retrieve Tweets\n",
    "tweet = api.get_status('551225929947942913')"
   ]
  },
  {
   "cell_type": "code",
   "execution_count": null,
   "metadata": {
    "collapsed": false
   },
   "outputs": [],
   "source": [
    "with io.open(\"C:/Users/suraj/Desktop/Contextualized-Sarcasm-Detection-on-Twitter.txt\") as fopen:\n",
    "    file_content = fopen.read().splitlines()\n",
    "\n",
    "    \n",
    "consumer_key= 'SMVEA3MypMkgOeAGjn75N0gHJ'\n",
    "consumer_secret= 'skaKGnyqPpzGO9PHubYaEVygai6fQB95ZkZQJrFFYaJfXZvI8J'\n",
    "\n",
    "access_token='715755192994643968-NgdBmvMLFm7QotE1sZezym6daI0WyOD'\n",
    "access_token_secret='d9B1xOXUzlgNyGa8Zyex09V6sTz4RUS5a4yPVqwCyiNRV'\n",
    "\n",
    "auth = tweepy.OAuthHandler(consumer_key, consumer_secret)\n",
    "auth.set_access_token(access_token, access_token_secret)\n",
    "\n",
    "#Step2 - Call the API\n",
    "api = tweepy.API(auth)\n",
    "output = ''    \n",
    "    \n",
    "for i in range(0,len(file_content)):\n",
    "    try:\n",
    "        temp = re.split(r'\\t+',file_content[i])\n",
    "        tweet, label = temp[0], temp[1]\n",
    "        status = api.get_status(tweet)\n",
    "        output += status.text + ' ' + label\n",
    "    except:\n",
    "        continue\n",
    "outputfile = open(output_file,\"w\")\n",
    "outputfile.write(output)\n",
    "outputfile.close()\n",
    "    \n",
    "    "
   ]
  },
  {
   "cell_type": "code",
   "execution_count": 5,
   "metadata": {
    "collapsed": false
   },
   "outputs": [
    {
     "data": {
      "text/plain": [
       "['547519595159224321', '1']"
      ]
     },
     "execution_count": 5,
     "metadata": {},
     "output_type": "execute_result"
    }
   ],
   "source": [
    "import re\n",
    "re.split(r'\\t+',file_content[2])"
   ]
  },
  {
   "cell_type": "code",
   "execution_count": null,
   "metadata": {
    "collapsed": false
   },
   "outputs": [],
   "source": [
    "output"
   ]
  }
 ],
 "metadata": {
  "kernelspec": {
   "display_name": "Python [Root]",
   "language": "python",
   "name": "Python [Root]"
  },
  "language_info": {
   "codemirror_mode": {
    "name": "ipython",
    "version": 3
   },
   "file_extension": ".py",
   "mimetype": "text/x-python",
   "name": "python",
   "nbconvert_exporter": "python",
   "pygments_lexer": "ipython3",
   "version": "3.5.2"
  }
 },
 "nbformat": 4,
 "nbformat_minor": 0
}
